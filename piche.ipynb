{
 "cells": [
  {
   "cell_type": "code",
   "execution_count": 39,
   "metadata": {},
   "outputs": [],
   "source": [
    "from constants import DICT_CASE, M\n",
    "import pandas as pd\n",
    "import torch\n",
    "from utils import charge_data, GraphDataset\n",
    "import matplotlib.pyplot as plt\n",
    "import torch\n",
    "from torch.utils.data import Dataset, DataLoader\n",
    "import torch\n",
    "import torch.nn as nn\n",
    "import torch.nn.functional as F"
   ]
  },
  {
   "cell_type": "code",
   "execution_count": 21,
   "metadata": {},
   "outputs": [],
   "source": [
    "hyper_param = {\n",
    "    \"num\": 1,\n",
    "    \"case\": 2,\n",
    "    \"nb_epoch\": 1000,\n",
    "    \"save_rate\": 10,\n",
    "    \"batch_size\": 10000,\n",
    "    \"lr_init\": 1e-4,\n",
    "    \"gamma_scheduler\": 0.999,\n",
    "    \"nb_layers\": 15,\n",
    "    \"nb_neurons\": 64,\n",
    "    \"n_data_test\": 5000,\n",
    "    \"nb_points\": 100,\n",
    "    \"x_min\": -0.06,\n",
    "    \"x_max\": 0.06,\n",
    "    \"y_min\": -0.06,\n",
    "    \"y_max\": 0.06,\n",
    "    \"t_min\": 6.5,\n",
    "    \"nb_period\": 20,\n",
    "    \"nb_period_plot\": 2,\n",
    "    \"force_inertie_bool\": False,\n",
    "    \"nb_period\": 20,\n",
    "    \"u_border\": True,\n",
    "    \"v_border\": False,\n",
    "    \"p_border\": True,\n",
    "    \"r_min\": 0.026/2,\n",
    "    'theta_border_min': 0.1,\n",
    "    'is_res': True,\n",
    "    'nb_blocks': 60,  # Pour ResNet\n",
    "    'nb_layer_block': 3,  # Pour ResNet\n",
    "    'nb_timestep': 10\n",
    "}\n",
    "hyper_param['H'] = [DICT_CASE[str(hyper_param['case'])]]\n",
    "hyper_param['file'] = [\n",
    "    f\"model_{hyper_param['num']}_case_{hyper_param['case']}.csv\"\n",
    "    ]\n",
    "hyper_param['m'] = M\n",
    "\n",
    "param_adim = {\"V\": 1.0, \"L\": 0.025, \"rho\": 1.2}"
   ]
  },
  {
   "cell_type": "code",
   "execution_count": 24,
   "metadata": {},
   "outputs": [],
   "source": [
    "X_full_time, U_full_time, mean_std = charge_data(hyper_param, param_adim)"
   ]
  },
  {
   "cell_type": "code",
   "execution_count": 26,
   "metadata": {},
   "outputs": [],
   "source": [
    "dataset = GraphDataset(X_full_time, U_full_time)"
   ]
  },
  {
   "cell_type": "code",
   "execution_count": 27,
   "metadata": {},
   "outputs": [],
   "source": [
    "dataloader = DataLoader(dataset, batch_size=2, shuffle=True, num_workers=2)"
   ]
  },
  {
   "cell_type": "code",
   "execution_count": 28,
   "metadata": {},
   "outputs": [],
   "source": [
    "edge_neighbours = dataset.edge_neighbours"
   ]
  },
  {
   "cell_type": "code",
   "execution_count": 34,
   "metadata": {},
   "outputs": [],
   "source": [
    "U, U_n = next(iter(dataloader))"
   ]
  },
  {
   "cell_type": "code",
   "execution_count": 35,
   "metadata": {},
   "outputs": [
    {
     "data": {
      "text/plain": [
       "tensor([[[ 0.5035, -0.1058,  0.6239],\n",
       "         [ 0.5091, -0.1260,  0.6131],\n",
       "         [ 0.4960, -0.1081,  0.6413],\n",
       "         ...,\n",
       "         [ 0.8478,  0.1131,  0.1834],\n",
       "         [ 0.8259,  0.1562,  0.2070],\n",
       "         [ 0.8280,  0.1215,  0.2039]],\n",
       "\n",
       "        [[ 0.5036, -0.0605,  0.5536],\n",
       "         [ 0.5091, -0.0810,  0.5431],\n",
       "         [ 0.4959, -0.0626,  0.5708],\n",
       "         ...,\n",
       "         [ 0.8245,  0.2343,  0.1758],\n",
       "         [ 0.8037,  0.2591,  0.1889],\n",
       "         [ 0.8081,  0.2332,  0.1904]]])"
      ]
     },
     "execution_count": 35,
     "metadata": {},
     "output_type": "execute_result"
    }
   ],
   "source": [
    "U"
   ]
  },
  {
   "cell_type": "code",
   "execution_count": 41,
   "metadata": {},
   "outputs": [],
   "source": [
    "MLP_to_latent = MLP(3, 128, 2)"
   ]
  },
  {
   "cell_type": "code",
   "execution_count": 42,
   "metadata": {},
   "outputs": [],
   "source": [
    "U_latent = MLP_to_latent(U)"
   ]
  },
  {
   "cell_type": "code",
   "execution_count": 45,
   "metadata": {},
   "outputs": [
    {
     "data": {
      "text/plain": [
       "torch.Size([2, 5540, 3])"
      ]
     },
     "execution_count": 45,
     "metadata": {},
     "output_type": "execute_result"
    }
   ],
   "source": [
    "U.shape"
   ]
  },
  {
   "cell_type": "code",
   "execution_count": 44,
   "metadata": {},
   "outputs": [
    {
     "data": {
      "text/plain": [
       "torch.Size([2, 5540, 128])"
      ]
     },
     "execution_count": 44,
     "metadata": {},
     "output_type": "execute_result"
    }
   ],
   "source": [
    "U_latent.shape"
   ]
  },
  {
   "cell_type": "code",
   "execution_count": 99,
   "metadata": {},
   "outputs": [],
   "source": [
    "class GNN(nn.Module):\n",
    "    def __init__(self, hyper_param, edge_neighbours):\n",
    "        super().__init__()\n",
    "        self.nb_hidden = hyper_param['nb_hidden']\n",
    "        self.nb_hidden_encode = hyper_param['nb_hidden_encode']\n",
    "        self.dim_latent = hyper_param['dim_latent']\n",
    "        self.nb_gn = hyper_param['nb_gn']\n",
    "        self.edge_neighbours = edge_neighbours\n",
    "        self.gnn = nn.ModuleList(\n",
    "            [MLP(dim_in=3, dim_out=self.dim_latent, nb_hidden=self.nb_hidden_encode)]\n",
    "            + [GN(self.edge_neighbours, self.nb_hidden, self.dim_latent)]\n",
    "            + [MLP(dim_in=self.dim_latent, dim_out=3, nb_hidden=self.nb_hidden_encode)]\n",
    "        )\n",
    "    \n",
    "    def forward(self, x):\n",
    "        for block in self.gnn:\n",
    "            x = block(x)\n",
    "        return x\n",
    "\n",
    "\n",
    "\n",
    "class GN(nn.Module):\n",
    "    def __init__(self, edge_neighbours, nb_hidden, dim_latent):\n",
    "        super().__init__()\n",
    "        self.nb_neighbours = edge_neighbours.shape[1]\n",
    "        self.mlp_neigh = nn.ModuleList(\n",
    "            [MLP(dim_latent, dim_latent, nb_hidden)] +  # pour lui même \n",
    "            [ MLP(dim_latent, dim_latent, nb_hidden) for _ in range(self.nb_neighbours)] # pour les voisins\n",
    "            ) \n",
    "        self.edge_neighbours = edge_neighbours # Nb_noeuds * nb_neigbours\n",
    "        self.LayerNorm = torch.nn.LayerNorm(dim_latent)\n",
    "    \n",
    "    def forward(self, x):\n",
    "        message = self.mlp_neigh[0](x) # batch_size * nb_noeuds * dim_latent\n",
    "        for k in range(1, self.nb_neighbours+1):\n",
    "            message += self.mlp_neigh[k](x[:, self.edge_neighbours[:, k-1]]) \n",
    "        return self.LayerNorm(x + F.relu(message))\n",
    "\n",
    "\n",
    "\n",
    "class MLP(nn.Module):\n",
    "    def __init__(self, dim_in, dim_out, nb_hidden):\n",
    "        # self.dim_in = dim_in\n",
    "        # self.dim_out = dim_out\n",
    "        super().__init__()\n",
    "        self.linear_first = nn.ModuleList([nn.Linear(dim_in, dim_out)])\n",
    "        self.hidden = nn.ModuleList([\n",
    "            nn.Linear(dim_out, dim_out) for _ in range(nb_hidden)\n",
    "        ])\n",
    "        self.mlp = self.linear_first + self.hidden\n",
    "        self.initial_param()\n",
    "    \n",
    "    def forward(self, x):\n",
    "        for layer in self.mlp:\n",
    "            x = F.relu(layer(x))\n",
    "        return x\n",
    "    \n",
    "    def initial_param(self):\n",
    "        for layer in self.mlp:\n",
    "            nn.init.xavier_uniform_(layer.weight)\n",
    "            nn.init.zeros_(layer.bias)\n",
    "\n"
   ]
  },
  {
   "cell_type": "code",
   "execution_count": 102,
   "metadata": {},
   "outputs": [],
   "source": [
    "hyper_param = {\n",
    "    'nb_hidden': 2,\n",
    "    'dim_latent': 128,\n",
    "    'nb_gn': 5,\n",
    "    'nb_hidden_encode': 4,\n",
    "}"
   ]
  },
  {
   "cell_type": "code",
   "execution_count": 103,
   "metadata": {},
   "outputs": [],
   "source": [
    "gnn = GNN(hyper_param, edge_neighbours)"
   ]
  },
  {
   "cell_type": "code",
   "execution_count": 104,
   "metadata": {},
   "outputs": [
    {
     "data": {
      "text/plain": [
       "torch.Size([2, 5540, 3])"
      ]
     },
     "execution_count": 104,
     "metadata": {},
     "output_type": "execute_result"
    }
   ],
   "source": [
    "gnn(U).shape"
   ]
  },
  {
   "cell_type": "code",
   "execution_count": 105,
   "metadata": {},
   "outputs": [
    {
     "data": {
      "text/plain": [
       "torch.Size([2, 5540, 3])"
      ]
     },
     "execution_count": 105,
     "metadata": {},
     "output_type": "execute_result"
    }
   ],
   "source": [
    "U_n.shape"
   ]
  },
  {
   "cell_type": "code",
   "execution_count": 106,
   "metadata": {},
   "outputs": [],
   "source": [
    "U_latent = MLP_to_latent(U)"
   ]
  },
  {
   "cell_type": "code",
   "execution_count": 107,
   "metadata": {},
   "outputs": [],
   "source": [
    "GN_first_latent = GN(edge_neighbours, nb_hidden=2, dim_latent=128)"
   ]
  },
  {
   "cell_type": "code",
   "execution_count": 108,
   "metadata": {},
   "outputs": [
    {
     "data": {
      "text/plain": [
       "torch.Size([5540, 4])"
      ]
     },
     "execution_count": 108,
     "metadata": {},
     "output_type": "execute_result"
    }
   ],
   "source": [
    "edge_neighbours.shape"
   ]
  },
  {
   "cell_type": "code",
   "execution_count": 109,
   "metadata": {},
   "outputs": [
    {
     "data": {
      "text/plain": [
       "torch.Size([2, 5540, 128])"
      ]
     },
     "execution_count": 109,
     "metadata": {},
     "output_type": "execute_result"
    }
   ],
   "source": [
    "GN_first_latent(U_latent).shape"
   ]
  },
  {
   "cell_type": "code",
   "execution_count": 60,
   "metadata": {},
   "outputs": [
    {
     "data": {
      "text/plain": [
       "torch.Size([2, 5540, 128])"
      ]
     },
     "execution_count": 60,
     "metadata": {},
     "output_type": "execute_result"
    }
   ],
   "source": [
    "U_latent.shape"
   ]
  },
  {
   "cell_type": "code",
   "execution_count": 63,
   "metadata": {},
   "outputs": [
    {
     "data": {
      "text/plain": [
       "tensor([[[0.0000, 0.0000, 0.0090,  ..., 0.0204, 0.0000, 0.0000],\n",
       "         [0.0000, 0.0000, 0.0094,  ..., 0.0202, 0.0000, 0.0000],\n",
       "         [0.0000, 0.0000, 0.0092,  ..., 0.0211, 0.0000, 0.0000],\n",
       "         ...,\n",
       "         [0.0000, 0.0000, 0.0090,  ..., 0.0000, 0.0000, 0.0000],\n",
       "         [0.0000, 0.0000, 0.0080,  ..., 0.0000, 0.0000, 0.0000],\n",
       "         [0.0000, 0.0000, 0.0098,  ..., 0.0000, 0.0000, 0.0000]],\n",
       "\n",
       "        [[0.0000, 0.0000, 0.0078,  ..., 0.0184, 0.0000, 0.0000],\n",
       "         [0.0000, 0.0000, 0.0088,  ..., 0.0182, 0.0000, 0.0000],\n",
       "         [0.0000, 0.0000, 0.0081,  ..., 0.0185, 0.0000, 0.0000],\n",
       "         ...,\n",
       "         [0.0000, 0.0000, 0.0051,  ..., 0.0000, 0.0009, 0.0000],\n",
       "         [0.0000, 0.0000, 0.0042,  ..., 0.0000, 0.0029, 0.0000],\n",
       "         [0.0000, 0.0000, 0.0060,  ..., 0.0000, 0.0000, 0.0000]]],\n",
       "       grad_fn=<IndexBackward0>)"
      ]
     },
     "execution_count": 63,
     "metadata": {},
     "output_type": "execute_result"
    }
   ],
   "source": [
    "U_latent[:, edge_neighbours[:, 0]]"
   ]
  },
  {
   "cell_type": "code",
   "execution_count": 57,
   "metadata": {},
   "outputs": [
    {
     "data": {
      "text/plain": [
       "GN(\n",
       "  (mlp_neigh): ModuleList(\n",
       "    (0-4): 5 x MLP(\n",
       "      (linear_first): ModuleList(\n",
       "        (0): Linear(in_features=128, out_features=128, bias=True)\n",
       "      )\n",
       "      (hidden): ModuleList(\n",
       "        (0-1): 2 x Linear(in_features=128, out_features=128, bias=True)\n",
       "      )\n",
       "      (mlp): ModuleList(\n",
       "        (0-2): 3 x Linear(in_features=128, out_features=128, bias=True)\n",
       "      )\n",
       "    )\n",
       "  )\n",
       ")"
      ]
     },
     "execution_count": 57,
     "metadata": {},
     "output_type": "execute_result"
    }
   ],
   "source": [
    "GN_first_latent"
   ]
  },
  {
   "cell_type": "code",
   "execution_count": null,
   "metadata": {},
   "outputs": [],
   "source": []
  }
 ],
 "metadata": {
  "kernelspec": {
   "display_name": "base",
   "language": "python",
   "name": "python3"
  },
  "language_info": {
   "codemirror_mode": {
    "name": "ipython",
    "version": 3
   },
   "file_extension": ".py",
   "mimetype": "text/x-python",
   "name": "python",
   "nbconvert_exporter": "python",
   "pygments_lexer": "ipython3",
   "version": "3.12.7"
  }
 },
 "nbformat": 4,
 "nbformat_minor": 2
}
